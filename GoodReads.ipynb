{
  "nbformat": 4,
  "nbformat_minor": 0,
  "metadata": {
    "colab": {
      "provenance": [],
      "toc_visible": true,
      "include_colab_link": true
    },
    "kernelspec": {
      "name": "python3",
      "display_name": "Python 3"
    },
    "language_info": {
      "name": "python"
    }
  },
  "cells": [
    {
      "cell_type": "markdown",
      "metadata": {
        "id": "view-in-github",
        "colab_type": "text"
      },
      "source": [
        "<a href=\"https://colab.research.google.com/github/freddiewinter/bootcamp/blob/main/GoodReads.ipynb\" target=\"_parent\"><img src=\"https://colab.research.google.com/assets/colab-badge.svg\" alt=\"Open In Colab\"/></a>"
      ]
    },
    {
      "cell_type": "markdown",
      "source": [
        "# GoodReads Best Books Ever\n",
        "\n",
        "In this notebook we will analysis GoodReads data with a focus on difference rating metrics, awards, and language biases.\n",
        "\n",
        "**Team members: Freddie Winter, Anna Masland**\n",
        "\n",
        "\"GoodReads Best Books\" data source: [Kaggle](https://www.kaggle.com/datasets/thedevastator/comprehensive-overview-of-52478-goodreads-best-b)\n",
        "\n",
        "Assignment Requirements:\n",
        "2 Table Summaries, 4 Complete Charts, Include Text, Title, Subtitle, be easy to read. "
      ],
      "metadata": {
        "id": "u6rt-4-olSwC"
      }
    },
    {
      "cell_type": "markdown",
      "source": [
        "# Importing Data Set\n",
        "\n",
        "In this section, we imported pandas, seaborn,numpy, matplotlib, and matplotlib.pyplot. We also mounted our google drives, and reading \"Best_Books_Ever\" CSV file."
      ],
      "metadata": {
        "id": "lZSlWoeataD5"
      }
    },
    {
      "cell_type": "code",
      "source": [
        "# import packages\n",
        "import pandas as pd\n",
        "import seaborn as sns\n",
        "import numpy as np\n",
        "import matplotlib as mpl\n",
        "import matplotlib.pyplot as plt"
      ],
      "metadata": {
        "id": "PcipWrguleiO"
      },
      "execution_count": null,
      "outputs": []
    },
    {
      "cell_type": "code",
      "source": [
        "# mount drive\n",
        "from google.colab import drive\n",
        "drive.mount('/content/drive')"
      ],
      "metadata": {
        "colab": {
          "base_uri": "https://localhost:8080/"
        },
        "id": "kFcoVPRBGE5U",
        "outputId": "57d76166-8a03-451e-f7b0-3d9a485a023a"
      },
      "execution_count": null,
      "outputs": [
        {
          "output_type": "stream",
          "name": "stdout",
          "text": [
            "Drive already mounted at /content/drive; to attempt to forcibly remount, call drive.mount(\"/content/drive\", force_remount=True).\n"
          ]
        }
      ]
    },
    {
      "cell_type": "code",
      "source": [
        "# read csv file -- \n",
        "goodreads = pd.read_csv('/content/drive/MyDrive/Python Bootcamp/books_1.Best_Books_Ever.csv')"
      ],
      "metadata": {
        "id": "f99X977xmjov"
      },
      "execution_count": null,
      "outputs": []
    },
    {
      "cell_type": "markdown",
      "source": [
        "# Review and Clean Data\n",
        "In this section, we review the data set and clean the data of null values. This includes printing the information of the data, reviewing the minimum and maximum values, displays the first few rows, and removing null values."
      ],
      "metadata": {
        "id": "dSxo91n1tfbF"
      }
    },
    {
      "cell_type": "code",
      "source": [
        "#review data\n",
        "goodreads.info()"
      ],
      "metadata": {
        "id": "QBe5bds8nAw-",
        "colab": {
          "base_uri": "https://localhost:8080/"
        },
        "outputId": "6d4f2d16-5628-4c73-ba20-61157f779169"
      },
      "execution_count": null,
      "outputs": [
        {
          "output_type": "stream",
          "name": "stdout",
          "text": [
            "<class 'pandas.core.frame.DataFrame'>\n",
            "RangeIndex: 52478 entries, 0 to 52477\n",
            "Data columns (total 25 columns):\n",
            " #   Column            Non-Null Count  Dtype  \n",
            "---  ------            --------------  -----  \n",
            " 0   bookId            52478 non-null  object \n",
            " 1   title             52478 non-null  object \n",
            " 2   series            23470 non-null  object \n",
            " 3   author            52478 non-null  object \n",
            " 4   rating            52478 non-null  float64\n",
            " 5   description       51140 non-null  object \n",
            " 6   language          48672 non-null  object \n",
            " 7   isbn              52478 non-null  object \n",
            " 8   genres            52478 non-null  object \n",
            " 9   characters        52478 non-null  object \n",
            " 10  bookFormat        51005 non-null  object \n",
            " 11  edition           4955 non-null   object \n",
            " 12  pages             50131 non-null  object \n",
            " 13  publisher         48782 non-null  object \n",
            " 14  publishDate       51598 non-null  object \n",
            " 15  firstPublishDate  31152 non-null  object \n",
            " 16  awards            52478 non-null  object \n",
            " 17  numRatings        52478 non-null  int64  \n",
            " 18  ratingsByStars    52478 non-null  object \n",
            " 19  likedPercent      51856 non-null  float64\n",
            " 20  setting           52478 non-null  object \n",
            " 21  coverImg          51873 non-null  object \n",
            " 22  bbeScore          52478 non-null  int64  \n",
            " 23  bbeVotes          52478 non-null  int64  \n",
            " 24  price             38113 non-null  object \n",
            "dtypes: float64(2), int64(3), object(20)\n",
            "memory usage: 10.0+ MB\n"
          ]
        }
      ]
    },
    {
      "cell_type": "code",
      "source": [
        "# displays the first seven rows of of the DataFrame\n",
        "goodreads.head(7)"
      ],
      "metadata": {
        "id": "Hf8HiA6unE4k",
        "colab": {
          "base_uri": "https://localhost:8080/",
          "height": 900
        },
        "outputId": "9298fb93-8a23-4c8e-f2fd-41b8d2272715"
      },
      "execution_count": null,
      "outputs": [
        {
          "output_type": "execute_result",
          "data": {
            "text/plain": [
              "                                        bookId  \\\n",
              "0                     2767052-the-hunger-games   \n",
              "1  2.Harry_Potter_and_the_Order_of_the_Phoenix   \n",
              "2                   2657.To_Kill_a_Mockingbird   \n",
              "3                     1885.Pride_and_Prejudice   \n",
              "4                               41865.Twilight   \n",
              "5                         19063.The_Book_Thief   \n",
              "6                           170448.Animal_Farm   \n",
              "\n",
              "                                       title                 series  \\\n",
              "0                           The Hunger Games    The Hunger Games #1   \n",
              "1  Harry Potter and the Order of the Phoenix        Harry Potter #5   \n",
              "2                      To Kill a Mockingbird  To Kill a Mockingbird   \n",
              "3                        Pride and Prejudice                    NaN   \n",
              "4                                   Twilight   The Twilight Saga #1   \n",
              "5                             The Book Thief                    NaN   \n",
              "6                                Animal Farm                    NaN   \n",
              "\n",
              "                                              author  rating  \\\n",
              "0                                    Suzanne Collins    4.33   \n",
              "1          J.K. Rowling, Mary GrandPré (Illustrator)    4.50   \n",
              "2                                         Harper Lee    4.28   \n",
              "3          Jane Austen, Anna Quindlen (Introduction)    4.26   \n",
              "4                                    Stephenie Meyer    3.60   \n",
              "5                    Markus Zusak (Goodreads Author)    4.37   \n",
              "6  George Orwell, Russell Baker (Preface), C.M. W...    3.95   \n",
              "\n",
              "                                         description language           isbn  \\\n",
              "0  WINNING MEANS FAME AND FORTUNE.LOSING MEANS CE...  English  9780439023481   \n",
              "1  There is a door at the end of a silent corrido...  English  9780439358071   \n",
              "2  The unforgettable novel of a childhood in a sl...  English  9999999999999   \n",
              "3  Alternate cover edition of ISBN 9780679783268S...  English  9999999999999   \n",
              "4  About three things I was absolutely positive.\\...  English  9780316015844   \n",
              "5  Librarian's note: An alternate cover edition c...  English  9780375831003   \n",
              "6  Librarian's note: There is an Alternate Cover ...  English  9780451526342   \n",
              "\n",
              "                                              genres  \\\n",
              "0  ['Young Adult', 'Fiction', 'Dystopia', 'Fantas...   \n",
              "1  ['Fantasy', 'Young Adult', 'Fiction', 'Magic',...   \n",
              "2  ['Classics', 'Fiction', 'Historical Fiction', ...   \n",
              "3  ['Classics', 'Fiction', 'Romance', 'Historical...   \n",
              "4  ['Young Adult', 'Fantasy', 'Romance', 'Vampire...   \n",
              "5  ['Historical Fiction', 'Fiction', 'Young Adult...   \n",
              "6  ['Classics', 'Fiction', 'Dystopia', 'Fantasy',...   \n",
              "\n",
              "                                          characters  ... firstPublishDate  \\\n",
              "0  ['Katniss Everdeen', 'Peeta Mellark', 'Cato (H...  ...              NaN   \n",
              "1  ['Sirius Black', 'Draco Malfoy', 'Ron Weasley'...  ...         06/21/03   \n",
              "2  ['Scout Finch', 'Atticus Finch', 'Jem Finch', ...  ...         07/11/60   \n",
              "3  ['Mr. Bennet', 'Mrs. Bennet', 'Jane Bennet', '...  ...         01/28/13   \n",
              "4  ['Edward Cullen', 'Jacob Black', 'Laurent', 'R...  ...         10/05/05   \n",
              "5  ['Liesel Meminger', 'Hans Hubermann', 'Rudy St...  ...         09/01/05   \n",
              "6  ['Snowball', 'Napoleon', 'Clover', 'Boxer', 'O...  ...         08/17/45   \n",
              "\n",
              "                                              awards numRatings  \\\n",
              "0  ['Locus Award Nominee for Best Young Adult Boo...    6376780   \n",
              "1  ['Bram Stoker Award for Works for Young Reader...    2507623   \n",
              "2  ['Pulitzer Prize for Fiction (1961)', 'Audie A...    4501075   \n",
              "3                                                 []    2998241   \n",
              "4  ['Georgia Peach Book Award (2007)', 'Buxtehude...    4964519   \n",
              "5  ['National Jewish Book Award for Children’s an...    1834276   \n",
              "6  ['Prometheus Hall of Fame Award (2011)', 'Retr...    2740713   \n",
              "\n",
              "                                      ratingsByStars likedPercent  \\\n",
              "0  ['3444695', '1921313', '745221', '171994', '93...         96.0   \n",
              "1  ['1593642', '637516', '222366', '39573', '14526']         98.0   \n",
              "2  ['2363896', '1333153', '573280', '149952', '80...         95.0   \n",
              "3  ['1617567', '816659', '373311', '113934', '767...         94.0   \n",
              "4  ['1751460', '1113682', '1008686', '542017', '5...         78.0   \n",
              "5  ['1048230', '524674', '186297', '48864', '26211']         96.0   \n",
              "6  ['986764', '958699', '545475', '165093', '84682']         91.0   \n",
              "\n",
              "                                             setting  \\\n",
              "0  ['District 12, Panem', 'Capitol, Panem', 'Pane...   \n",
              "1  ['Hogwarts School of Witchcraft and Wizardry (...   \n",
              "2               ['Maycomb, Alabama (United States)']   \n",
              "3  ['United Kingdom', 'Derbyshire, England (Unite...   \n",
              "4  ['Forks, Washington (United States)', 'Phoenix...   \n",
              "5                  ['Molching (Germany)', 'Germany']   \n",
              "6                      ['England', 'United Kingdom']   \n",
              "\n",
              "                                            coverImg  bbeScore bbeVotes  price  \n",
              "0  https://i.gr-assets.com/images/S/compressed.ph...   2993816    30516   5.09  \n",
              "1  https://i.gr-assets.com/images/S/compressed.ph...   2632233    26923   7.38  \n",
              "2  https://i.gr-assets.com/images/S/compressed.ph...   2269402    23328    NaN  \n",
              "3  https://i.gr-assets.com/images/S/compressed.ph...   1983116    20452    NaN  \n",
              "4  https://i.gr-assets.com/images/S/compressed.ph...   1459448    14874    2.1  \n",
              "5  https://i.gr-assets.com/images/S/compressed.ph...   1372809    14168    3.8  \n",
              "6  https://i.gr-assets.com/images/S/compressed.ph...   1276599    13264   4.42  \n",
              "\n",
              "[7 rows x 25 columns]"
            ],
            "text/html": [
              "\n",
              "  <div id=\"df-346aa4c7-8af0-40b2-b9cb-4c81f4fd5566\">\n",
              "    <div class=\"colab-df-container\">\n",
              "      <div>\n",
              "<style scoped>\n",
              "    .dataframe tbody tr th:only-of-type {\n",
              "        vertical-align: middle;\n",
              "    }\n",
              "\n",
              "    .dataframe tbody tr th {\n",
              "        vertical-align: top;\n",
              "    }\n",
              "\n",
              "    .dataframe thead th {\n",
              "        text-align: right;\n",
              "    }\n",
              "</style>\n",
              "<table border=\"1\" class=\"dataframe\">\n",
              "  <thead>\n",
              "    <tr style=\"text-align: right;\">\n",
              "      <th></th>\n",
              "      <th>bookId</th>\n",
              "      <th>title</th>\n",
              "      <th>series</th>\n",
              "      <th>author</th>\n",
              "      <th>rating</th>\n",
              "      <th>description</th>\n",
              "      <th>language</th>\n",
              "      <th>isbn</th>\n",
              "      <th>genres</th>\n",
              "      <th>characters</th>\n",
              "      <th>...</th>\n",
              "      <th>firstPublishDate</th>\n",
              "      <th>awards</th>\n",
              "      <th>numRatings</th>\n",
              "      <th>ratingsByStars</th>\n",
              "      <th>likedPercent</th>\n",
              "      <th>setting</th>\n",
              "      <th>coverImg</th>\n",
              "      <th>bbeScore</th>\n",
              "      <th>bbeVotes</th>\n",
              "      <th>price</th>\n",
              "    </tr>\n",
              "  </thead>\n",
              "  <tbody>\n",
              "    <tr>\n",
              "      <th>0</th>\n",
              "      <td>2767052-the-hunger-games</td>\n",
              "      <td>The Hunger Games</td>\n",
              "      <td>The Hunger Games #1</td>\n",
              "      <td>Suzanne Collins</td>\n",
              "      <td>4.33</td>\n",
              "      <td>WINNING MEANS FAME AND FORTUNE.LOSING MEANS CE...</td>\n",
              "      <td>English</td>\n",
              "      <td>9780439023481</td>\n",
              "      <td>['Young Adult', 'Fiction', 'Dystopia', 'Fantas...</td>\n",
              "      <td>['Katniss Everdeen', 'Peeta Mellark', 'Cato (H...</td>\n",
              "      <td>...</td>\n",
              "      <td>NaN</td>\n",
              "      <td>['Locus Award Nominee for Best Young Adult Boo...</td>\n",
              "      <td>6376780</td>\n",
              "      <td>['3444695', '1921313', '745221', '171994', '93...</td>\n",
              "      <td>96.0</td>\n",
              "      <td>['District 12, Panem', 'Capitol, Panem', 'Pane...</td>\n",
              "      <td>https://i.gr-assets.com/images/S/compressed.ph...</td>\n",
              "      <td>2993816</td>\n",
              "      <td>30516</td>\n",
              "      <td>5.09</td>\n",
              "    </tr>\n",
              "    <tr>\n",
              "      <th>1</th>\n",
              "      <td>2.Harry_Potter_and_the_Order_of_the_Phoenix</td>\n",
              "      <td>Harry Potter and the Order of the Phoenix</td>\n",
              "      <td>Harry Potter #5</td>\n",
              "      <td>J.K. Rowling, Mary GrandPré (Illustrator)</td>\n",
              "      <td>4.50</td>\n",
              "      <td>There is a door at the end of a silent corrido...</td>\n",
              "      <td>English</td>\n",
              "      <td>9780439358071</td>\n",
              "      <td>['Fantasy', 'Young Adult', 'Fiction', 'Magic',...</td>\n",
              "      <td>['Sirius Black', 'Draco Malfoy', 'Ron Weasley'...</td>\n",
              "      <td>...</td>\n",
              "      <td>06/21/03</td>\n",
              "      <td>['Bram Stoker Award for Works for Young Reader...</td>\n",
              "      <td>2507623</td>\n",
              "      <td>['1593642', '637516', '222366', '39573', '14526']</td>\n",
              "      <td>98.0</td>\n",
              "      <td>['Hogwarts School of Witchcraft and Wizardry (...</td>\n",
              "      <td>https://i.gr-assets.com/images/S/compressed.ph...</td>\n",
              "      <td>2632233</td>\n",
              "      <td>26923</td>\n",
              "      <td>7.38</td>\n",
              "    </tr>\n",
              "    <tr>\n",
              "      <th>2</th>\n",
              "      <td>2657.To_Kill_a_Mockingbird</td>\n",
              "      <td>To Kill a Mockingbird</td>\n",
              "      <td>To Kill a Mockingbird</td>\n",
              "      <td>Harper Lee</td>\n",
              "      <td>4.28</td>\n",
              "      <td>The unforgettable novel of a childhood in a sl...</td>\n",
              "      <td>English</td>\n",
              "      <td>9999999999999</td>\n",
              "      <td>['Classics', 'Fiction', 'Historical Fiction', ...</td>\n",
              "      <td>['Scout Finch', 'Atticus Finch', 'Jem Finch', ...</td>\n",
              "      <td>...</td>\n",
              "      <td>07/11/60</td>\n",
              "      <td>['Pulitzer Prize for Fiction (1961)', 'Audie A...</td>\n",
              "      <td>4501075</td>\n",
              "      <td>['2363896', '1333153', '573280', '149952', '80...</td>\n",
              "      <td>95.0</td>\n",
              "      <td>['Maycomb, Alabama (United States)']</td>\n",
              "      <td>https://i.gr-assets.com/images/S/compressed.ph...</td>\n",
              "      <td>2269402</td>\n",
              "      <td>23328</td>\n",
              "      <td>NaN</td>\n",
              "    </tr>\n",
              "    <tr>\n",
              "      <th>3</th>\n",
              "      <td>1885.Pride_and_Prejudice</td>\n",
              "      <td>Pride and Prejudice</td>\n",
              "      <td>NaN</td>\n",
              "      <td>Jane Austen, Anna Quindlen (Introduction)</td>\n",
              "      <td>4.26</td>\n",
              "      <td>Alternate cover edition of ISBN 9780679783268S...</td>\n",
              "      <td>English</td>\n",
              "      <td>9999999999999</td>\n",
              "      <td>['Classics', 'Fiction', 'Romance', 'Historical...</td>\n",
              "      <td>['Mr. Bennet', 'Mrs. Bennet', 'Jane Bennet', '...</td>\n",
              "      <td>...</td>\n",
              "      <td>01/28/13</td>\n",
              "      <td>[]</td>\n",
              "      <td>2998241</td>\n",
              "      <td>['1617567', '816659', '373311', '113934', '767...</td>\n",
              "      <td>94.0</td>\n",
              "      <td>['United Kingdom', 'Derbyshire, England (Unite...</td>\n",
              "      <td>https://i.gr-assets.com/images/S/compressed.ph...</td>\n",
              "      <td>1983116</td>\n",
              "      <td>20452</td>\n",
              "      <td>NaN</td>\n",
              "    </tr>\n",
              "    <tr>\n",
              "      <th>4</th>\n",
              "      <td>41865.Twilight</td>\n",
              "      <td>Twilight</td>\n",
              "      <td>The Twilight Saga #1</td>\n",
              "      <td>Stephenie Meyer</td>\n",
              "      <td>3.60</td>\n",
              "      <td>About three things I was absolutely positive.\\...</td>\n",
              "      <td>English</td>\n",
              "      <td>9780316015844</td>\n",
              "      <td>['Young Adult', 'Fantasy', 'Romance', 'Vampire...</td>\n",
              "      <td>['Edward Cullen', 'Jacob Black', 'Laurent', 'R...</td>\n",
              "      <td>...</td>\n",
              "      <td>10/05/05</td>\n",
              "      <td>['Georgia Peach Book Award (2007)', 'Buxtehude...</td>\n",
              "      <td>4964519</td>\n",
              "      <td>['1751460', '1113682', '1008686', '542017', '5...</td>\n",
              "      <td>78.0</td>\n",
              "      <td>['Forks, Washington (United States)', 'Phoenix...</td>\n",
              "      <td>https://i.gr-assets.com/images/S/compressed.ph...</td>\n",
              "      <td>1459448</td>\n",
              "      <td>14874</td>\n",
              "      <td>2.1</td>\n",
              "    </tr>\n",
              "    <tr>\n",
              "      <th>5</th>\n",
              "      <td>19063.The_Book_Thief</td>\n",
              "      <td>The Book Thief</td>\n",
              "      <td>NaN</td>\n",
              "      <td>Markus Zusak (Goodreads Author)</td>\n",
              "      <td>4.37</td>\n",
              "      <td>Librarian's note: An alternate cover edition c...</td>\n",
              "      <td>English</td>\n",
              "      <td>9780375831003</td>\n",
              "      <td>['Historical Fiction', 'Fiction', 'Young Adult...</td>\n",
              "      <td>['Liesel Meminger', 'Hans Hubermann', 'Rudy St...</td>\n",
              "      <td>...</td>\n",
              "      <td>09/01/05</td>\n",
              "      <td>['National Jewish Book Award for Children’s an...</td>\n",
              "      <td>1834276</td>\n",
              "      <td>['1048230', '524674', '186297', '48864', '26211']</td>\n",
              "      <td>96.0</td>\n",
              "      <td>['Molching (Germany)', 'Germany']</td>\n",
              "      <td>https://i.gr-assets.com/images/S/compressed.ph...</td>\n",
              "      <td>1372809</td>\n",
              "      <td>14168</td>\n",
              "      <td>3.8</td>\n",
              "    </tr>\n",
              "    <tr>\n",
              "      <th>6</th>\n",
              "      <td>170448.Animal_Farm</td>\n",
              "      <td>Animal Farm</td>\n",
              "      <td>NaN</td>\n",
              "      <td>George Orwell, Russell Baker (Preface), C.M. W...</td>\n",
              "      <td>3.95</td>\n",
              "      <td>Librarian's note: There is an Alternate Cover ...</td>\n",
              "      <td>English</td>\n",
              "      <td>9780451526342</td>\n",
              "      <td>['Classics', 'Fiction', 'Dystopia', 'Fantasy',...</td>\n",
              "      <td>['Snowball', 'Napoleon', 'Clover', 'Boxer', 'O...</td>\n",
              "      <td>...</td>\n",
              "      <td>08/17/45</td>\n",
              "      <td>['Prometheus Hall of Fame Award (2011)', 'Retr...</td>\n",
              "      <td>2740713</td>\n",
              "      <td>['986764', '958699', '545475', '165093', '84682']</td>\n",
              "      <td>91.0</td>\n",
              "      <td>['England', 'United Kingdom']</td>\n",
              "      <td>https://i.gr-assets.com/images/S/compressed.ph...</td>\n",
              "      <td>1276599</td>\n",
              "      <td>13264</td>\n",
              "      <td>4.42</td>\n",
              "    </tr>\n",
              "  </tbody>\n",
              "</table>\n",
              "<p>7 rows × 25 columns</p>\n",
              "</div>\n",
              "      <button class=\"colab-df-convert\" onclick=\"convertToInteractive('df-346aa4c7-8af0-40b2-b9cb-4c81f4fd5566')\"\n",
              "              title=\"Convert this dataframe to an interactive table.\"\n",
              "              style=\"display:none;\">\n",
              "        \n",
              "  <svg xmlns=\"http://www.w3.org/2000/svg\" height=\"24px\"viewBox=\"0 0 24 24\"\n",
              "       width=\"24px\">\n",
              "    <path d=\"M0 0h24v24H0V0z\" fill=\"none\"/>\n",
              "    <path d=\"M18.56 5.44l.94 2.06.94-2.06 2.06-.94-2.06-.94-.94-2.06-.94 2.06-2.06.94zm-11 1L8.5 8.5l.94-2.06 2.06-.94-2.06-.94L8.5 2.5l-.94 2.06-2.06.94zm10 10l.94 2.06.94-2.06 2.06-.94-2.06-.94-.94-2.06-.94 2.06-2.06.94z\"/><path d=\"M17.41 7.96l-1.37-1.37c-.4-.4-.92-.59-1.43-.59-.52 0-1.04.2-1.43.59L10.3 9.45l-7.72 7.72c-.78.78-.78 2.05 0 2.83L4 21.41c.39.39.9.59 1.41.59.51 0 1.02-.2 1.41-.59l7.78-7.78 2.81-2.81c.8-.78.8-2.07 0-2.86zM5.41 20L4 18.59l7.72-7.72 1.47 1.35L5.41 20z\"/>\n",
              "  </svg>\n",
              "      </button>\n",
              "      \n",
              "  <style>\n",
              "    .colab-df-container {\n",
              "      display:flex;\n",
              "      flex-wrap:wrap;\n",
              "      gap: 12px;\n",
              "    }\n",
              "\n",
              "    .colab-df-convert {\n",
              "      background-color: #E8F0FE;\n",
              "      border: none;\n",
              "      border-radius: 50%;\n",
              "      cursor: pointer;\n",
              "      display: none;\n",
              "      fill: #1967D2;\n",
              "      height: 32px;\n",
              "      padding: 0 0 0 0;\n",
              "      width: 32px;\n",
              "    }\n",
              "\n",
              "    .colab-df-convert:hover {\n",
              "      background-color: #E2EBFA;\n",
              "      box-shadow: 0px 1px 2px rgba(60, 64, 67, 0.3), 0px 1px 3px 1px rgba(60, 64, 67, 0.15);\n",
              "      fill: #174EA6;\n",
              "    }\n",
              "\n",
              "    [theme=dark] .colab-df-convert {\n",
              "      background-color: #3B4455;\n",
              "      fill: #D2E3FC;\n",
              "    }\n",
              "\n",
              "    [theme=dark] .colab-df-convert:hover {\n",
              "      background-color: #434B5C;\n",
              "      box-shadow: 0px 1px 3px 1px rgba(0, 0, 0, 0.15);\n",
              "      filter: drop-shadow(0px 1px 2px rgba(0, 0, 0, 0.3));\n",
              "      fill: #FFFFFF;\n",
              "    }\n",
              "  </style>\n",
              "\n",
              "      <script>\n",
              "        const buttonEl =\n",
              "          document.querySelector('#df-346aa4c7-8af0-40b2-b9cb-4c81f4fd5566 button.colab-df-convert');\n",
              "        buttonEl.style.display =\n",
              "          google.colab.kernel.accessAllowed ? 'block' : 'none';\n",
              "\n",
              "        async function convertToInteractive(key) {\n",
              "          const element = document.querySelector('#df-346aa4c7-8af0-40b2-b9cb-4c81f4fd5566');\n",
              "          const dataTable =\n",
              "            await google.colab.kernel.invokeFunction('convertToInteractive',\n",
              "                                                     [key], {});\n",
              "          if (!dataTable) return;\n",
              "\n",
              "          const docLinkHtml = 'Like what you see? Visit the ' +\n",
              "            '<a target=\"_blank\" href=https://colab.research.google.com/notebooks/data_table.ipynb>data table notebook</a>'\n",
              "            + ' to learn more about interactive tables.';\n",
              "          element.innerHTML = '';\n",
              "          dataTable['output_type'] = 'display_data';\n",
              "          await google.colab.output.renderOutput(dataTable, element);\n",
              "          const docLink = document.createElement('div');\n",
              "          docLink.innerHTML = docLinkHtml;\n",
              "          element.appendChild(docLink);\n",
              "        }\n",
              "      </script>\n",
              "    </div>\n",
              "  </div>\n",
              "  "
            ]
          },
          "metadata": {},
          "execution_count": 115
        }
      ]
    },
    {
      "cell_type": "code",
      "source": [
        "# returns the number of missing values in each column\n",
        "goodreads.isna().sum()"
      ],
      "metadata": {
        "id": "2xcbh7_hnPOj",
        "colab": {
          "base_uri": "https://localhost:8080/"
        },
        "outputId": "2737528f-26bf-4fbd-b0b6-fc77e6235b75"
      },
      "execution_count": null,
      "outputs": [
        {
          "output_type": "execute_result",
          "data": {
            "text/plain": [
              "bookId                  0\n",
              "title                   0\n",
              "series              29008\n",
              "author                  0\n",
              "rating                  0\n",
              "description          1338\n",
              "language             3806\n",
              "isbn                    0\n",
              "genres                  0\n",
              "characters              0\n",
              "bookFormat           1473\n",
              "edition             47523\n",
              "pages                2347\n",
              "publisher            3696\n",
              "publishDate           880\n",
              "firstPublishDate    21326\n",
              "awards                  0\n",
              "numRatings              0\n",
              "ratingsByStars          0\n",
              "likedPercent          622\n",
              "setting                 0\n",
              "coverImg              605\n",
              "bbeScore                0\n",
              "bbeVotes                0\n",
              "price               14365\n",
              "dtype: int64"
            ]
          },
          "metadata": {},
          "execution_count": 116
        }
      ]
    },
    {
      "cell_type": "code",
      "source": [
        "# remove columns with poor data quality (large number of null values), label as new dataframe goodreads_remove_col\n",
        "goodreads_remove_col = goodreads.drop(['edition', 'firstPublishDate', 'series', 'price'], axis=1)\n",
        "\n",
        "# validate columns are removed, confirm remaining columns have low enough nulls to use dropna method \n",
        "goodreads_remove_col.isna().sum()"
      ],
      "metadata": {
        "id": "YewCZ9Za-TVa",
        "outputId": "e7795f99-3298-41c3-9b63-5fe920f497a2",
        "colab": {
          "base_uri": "https://localhost:8080/"
        }
      },
      "execution_count": null,
      "outputs": [
        {
          "output_type": "execute_result",
          "data": {
            "text/plain": [
              "bookId               0\n",
              "title                0\n",
              "author               0\n",
              "rating               0\n",
              "description       1338\n",
              "language          3806\n",
              "isbn                 0\n",
              "genres               0\n",
              "characters           0\n",
              "bookFormat        1473\n",
              "pages             2347\n",
              "publisher         3696\n",
              "publishDate        880\n",
              "awards               0\n",
              "numRatings           0\n",
              "ratingsByStars       0\n",
              "likedPercent       622\n",
              "setting              0\n",
              "coverImg           605\n",
              "bbeScore             0\n",
              "bbeVotes             0\n",
              "dtype: int64"
            ]
          },
          "metadata": {},
          "execution_count": 117
        }
      ]
    },
    {
      "cell_type": "code",
      "source": [
        "# remove null values and publish in new dataframe: goodreads_clean\n",
        "goodreads_clean = goodreads_remove_col.dropna(subset=['description', 'language', 'bookFormat', 'pages', 'publisher', 'publishDate', 'likedPercent', 'coverImg'])"
      ],
      "metadata": {
        "id": "qDM2UdOAyCTk"
      },
      "execution_count": null,
      "outputs": []
    },
    {
      "cell_type": "code",
      "source": [
        "# convert pages column to int64, some records include \"1 page\" value so first remove those, then convert datatype\n",
        "goodreads_clean = goodreads_clean[~goodreads_clean['pages'].str.contains('1 page')]\n",
        "goodreads_clean['pages'] = goodreads_clean['pages'].astype('int64')\n",
        "goodreads_clean.info()"
      ],
      "metadata": {
        "id": "0KNb1ewMj9z7",
        "outputId": "a59984b4-ba2d-49fe-cba3-55974e200175",
        "colab": {
          "base_uri": "https://localhost:8080/"
        }
      },
      "execution_count": null,
      "outputs": [
        {
          "output_type": "stream",
          "name": "stdout",
          "text": [
            "<class 'pandas.core.frame.DataFrame'>\n",
            "Int64Index: 43248 entries, 0 to 52477\n",
            "Data columns (total 21 columns):\n",
            " #   Column          Non-Null Count  Dtype  \n",
            "---  ------          --------------  -----  \n",
            " 0   bookId          43248 non-null  object \n",
            " 1   title           43248 non-null  object \n",
            " 2   author          43248 non-null  object \n",
            " 3   rating          43248 non-null  float64\n",
            " 4   description     43248 non-null  object \n",
            " 5   language        43248 non-null  object \n",
            " 6   isbn            43248 non-null  object \n",
            " 7   genres          43248 non-null  object \n",
            " 8   characters      43248 non-null  object \n",
            " 9   bookFormat      43248 non-null  object \n",
            " 10  pages           43248 non-null  int64  \n",
            " 11  publisher       43248 non-null  object \n",
            " 12  publishDate     43248 non-null  object \n",
            " 13  awards          43248 non-null  object \n",
            " 14  numRatings      43248 non-null  int64  \n",
            " 15  ratingsByStars  43248 non-null  object \n",
            " 16  likedPercent    43248 non-null  float64\n",
            " 17  setting         43248 non-null  object \n",
            " 18  coverImg        43248 non-null  object \n",
            " 19  bbeScore        43248 non-null  int64  \n",
            " 20  bbeVotes        43248 non-null  int64  \n",
            "dtypes: float64(2), int64(4), object(15)\n",
            "memory usage: 7.3+ MB\n"
          ]
        }
      ]
    },
    {
      "cell_type": "code",
      "source": [
        "# add column to dataset for count of awards\n",
        "\n",
        "# create a new column for the count of awards\n",
        "goodreads_clean['awards_count'] = goodreads_clean['awards'].str.count(',') + 1\n",
        "\n",
        "# remove count of 1 for records where value is equal to []\n",
        "goodreads_clean['awards_count'] = goodreads_clean['awards'].apply(lambda x: x.count(',') + 1 if ',' in x else 0 if x == '[]' else 1)\n",
        "\n",
        "# show the updated DataFrame\n",
        "goodreads_clean.info()\n"
      ],
      "metadata": {
        "id": "mvkEIdi6lhYx",
        "outputId": "09fa3a5f-b412-4970-b6b2-0cf576ffa0af",
        "colab": {
          "base_uri": "https://localhost:8080/"
        }
      },
      "execution_count": null,
      "outputs": [
        {
          "output_type": "stream",
          "name": "stdout",
          "text": [
            "<class 'pandas.core.frame.DataFrame'>\n",
            "Int64Index: 43248 entries, 0 to 52477\n",
            "Data columns (total 22 columns):\n",
            " #   Column          Non-Null Count  Dtype  \n",
            "---  ------          --------------  -----  \n",
            " 0   bookId          43248 non-null  object \n",
            " 1   title           43248 non-null  object \n",
            " 2   author          43248 non-null  object \n",
            " 3   rating          43248 non-null  float64\n",
            " 4   description     43248 non-null  object \n",
            " 5   language        43248 non-null  object \n",
            " 6   isbn            43248 non-null  object \n",
            " 7   genres          43248 non-null  object \n",
            " 8   characters      43248 non-null  object \n",
            " 9   bookFormat      43248 non-null  object \n",
            " 10  pages           43248 non-null  int64  \n",
            " 11  publisher       43248 non-null  object \n",
            " 12  publishDate     43248 non-null  object \n",
            " 13  awards          43248 non-null  object \n",
            " 14  numRatings      43248 non-null  int64  \n",
            " 15  ratingsByStars  43248 non-null  object \n",
            " 16  likedPercent    43248 non-null  float64\n",
            " 17  setting         43248 non-null  object \n",
            " 18  coverImg        43248 non-null  object \n",
            " 19  bbeScore        43248 non-null  int64  \n",
            " 20  bbeVotes        43248 non-null  int64  \n",
            " 21  awards_count    43248 non-null  int64  \n",
            "dtypes: float64(2), int64(5), object(15)\n",
            "memory usage: 7.6+ MB\n"
          ]
        }
      ]
    },
    {
      "cell_type": "code",
      "source": [
        "43248 / 53448"
      ],
      "metadata": {
        "id": "OluM5--JoKsK",
        "outputId": "8c7df7b1-195b-4a49-8128-fc2071a150a9",
        "colab": {
          "base_uri": "https://localhost:8080/"
        }
      },
      "execution_count": null,
      "outputs": [
        {
          "output_type": "execute_result",
          "data": {
            "text/plain": [
              "0.8091603053435115"
            ]
          },
          "metadata": {},
          "execution_count": 121
        }
      ]
    },
    {
      "cell_type": "markdown",
      "source": [
        "> *The dataset goodreads_clean is cleaned version of the original dataframe. Three columns were removed due to poor quality. Originally the dataset contained 52,448 records. After dropping null values from the set, we now have 43,248 records. This appraoch maintained 81% of records while ensuring that all columns contain values for analysis.*"
      ],
      "metadata": {
        "id": "QPi7LrGz-fLH"
      }
    },
    {
      "cell_type": "markdown",
      "source": [
        "# Top 10 Rated Books by Rating and BBE Score (Tables)\n",
        "In this section, we analyze the difference of Ratings and BBE score. "
      ],
      "metadata": {
        "id": "-PV0U4V2_Edj"
      }
    },
    {
      "cell_type": "code",
      "source": [
        "# review max, median, and min number or ratings to determine threshold for ratings\n",
        "goodreads_clean['numRatings'].agg([np.max, np.min, np.median])"
      ],
      "metadata": {
        "id": "xu8jYRbl_mNP",
        "outputId": "537c06b8-0bbb-40d8-8c33-220f01e6a556",
        "colab": {
          "base_uri": "https://localhost:8080/"
        }
      },
      "execution_count": null,
      "outputs": [
        {
          "output_type": "execute_result",
          "data": {
            "text/plain": [
              "amax      7048471.0\n",
              "amin            1.0\n",
              "median       3157.0\n",
              "Name: numRatings, dtype: float64"
            ]
          },
          "metadata": {},
          "execution_count": 122
        }
      ]
    },
    {
      "cell_type": "code",
      "source": [
        "# find the mean of the number of ratings\n",
        "goodreads_clean['numRatings'].mean()"
      ],
      "metadata": {
        "id": "gzD8TO6tAl5P",
        "outputId": "ea8ba8cd-9706-42a1-c1d3-0ff5a85998a8",
        "colab": {
          "base_uri": "https://localhost:8080/"
        }
      },
      "execution_count": null,
      "outputs": [
        {
          "output_type": "execute_result",
          "data": {
            "text/plain": [
              "21005.74054291528"
            ]
          },
          "metadata": {},
          "execution_count": 123
        }
      ]
    },
    {
      "cell_type": "code",
      "source": [
        "# filter data to only analyze books with more than 10,000 ratings\n",
        "goodreads_10k_rating = goodreads_clean[goodreads_clean['numRatings'] > 10000]\n",
        "\n",
        "# list top 10 books with more than 10,000 ratings \n",
        "top_rated_books_10k = goodreads_10k_rating.sort_values('rating', ascending=False).head(10)\n",
        "top_rated_books_10ksubset = top_rated_books_10k[['title', 'rating', 'numRatings', 'bbeScore', 'bbeVotes']]\n",
        "top_rated_books_10ksubset"
      ],
      "metadata": {
        "id": "O67Wn6Sq_ocR",
        "outputId": "eb1f4ceb-42f8-4e77-9e6d-1b7357f30f15",
        "colab": {
          "base_uri": "https://localhost:8080/",
          "height": 363
        }
      },
      "execution_count": null,
      "outputs": [
        {
          "output_type": "execute_result",
          "data": {
            "text/plain": [
              "                                                   title  rating  numRatings  \\\n",
              "256                       The Complete Calvin and Hobbes    4.82       34893   \n",
              "26500                           The Way of Kings, Part 2    4.79       13194   \n",
              "2756                                     ESV Study Bible    4.78       12868   \n",
              "7008   Harry Potter Boxed Set, Books 1-5 (Harry Potte...    4.78       52749   \n",
              "2699                            Mark of the Lion Trilogy    4.77       11402   \n",
              "5564                                It's a Magical World    4.76       25874   \n",
              "635                                    Words of Radiance    4.75      207369   \n",
              "14496                        There's Treasure Everywhere    4.75       19726   \n",
              "3582                 The Indispensable Calvin and Hobbes    4.74       19492   \n",
              "1565   The Authoritative Calvin and Hobbes: A Calvin ...    4.74       20857   \n",
              "\n",
              "       bbeScore  bbeVotes  \n",
              "256       50709       632  \n",
              "26500        97         1  \n",
              "2756       1296        14  \n",
              "7008        381         4  \n",
              "2699       1331        16  \n",
              "5564        517         6  \n",
              "635       12481       133  \n",
              "14496       174         2  \n",
              "3582        904        14  \n",
              "1565       2946        46  "
            ],
            "text/html": [
              "\n",
              "  <div id=\"df-2f1838d0-d05d-498f-8976-cae8c1cc3fd7\">\n",
              "    <div class=\"colab-df-container\">\n",
              "      <div>\n",
              "<style scoped>\n",
              "    .dataframe tbody tr th:only-of-type {\n",
              "        vertical-align: middle;\n",
              "    }\n",
              "\n",
              "    .dataframe tbody tr th {\n",
              "        vertical-align: top;\n",
              "    }\n",
              "\n",
              "    .dataframe thead th {\n",
              "        text-align: right;\n",
              "    }\n",
              "</style>\n",
              "<table border=\"1\" class=\"dataframe\">\n",
              "  <thead>\n",
              "    <tr style=\"text-align: right;\">\n",
              "      <th></th>\n",
              "      <th>title</th>\n",
              "      <th>rating</th>\n",
              "      <th>numRatings</th>\n",
              "      <th>bbeScore</th>\n",
              "      <th>bbeVotes</th>\n",
              "    </tr>\n",
              "  </thead>\n",
              "  <tbody>\n",
              "    <tr>\n",
              "      <th>256</th>\n",
              "      <td>The Complete Calvin and Hobbes</td>\n",
              "      <td>4.82</td>\n",
              "      <td>34893</td>\n",
              "      <td>50709</td>\n",
              "      <td>632</td>\n",
              "    </tr>\n",
              "    <tr>\n",
              "      <th>26500</th>\n",
              "      <td>The Way of Kings, Part 2</td>\n",
              "      <td>4.79</td>\n",
              "      <td>13194</td>\n",
              "      <td>97</td>\n",
              "      <td>1</td>\n",
              "    </tr>\n",
              "    <tr>\n",
              "      <th>2756</th>\n",
              "      <td>ESV Study Bible</td>\n",
              "      <td>4.78</td>\n",
              "      <td>12868</td>\n",
              "      <td>1296</td>\n",
              "      <td>14</td>\n",
              "    </tr>\n",
              "    <tr>\n",
              "      <th>7008</th>\n",
              "      <td>Harry Potter Boxed Set, Books 1-5 (Harry Potte...</td>\n",
              "      <td>4.78</td>\n",
              "      <td>52749</td>\n",
              "      <td>381</td>\n",
              "      <td>4</td>\n",
              "    </tr>\n",
              "    <tr>\n",
              "      <th>2699</th>\n",
              "      <td>Mark of the Lion Trilogy</td>\n",
              "      <td>4.77</td>\n",
              "      <td>11402</td>\n",
              "      <td>1331</td>\n",
              "      <td>16</td>\n",
              "    </tr>\n",
              "    <tr>\n",
              "      <th>5564</th>\n",
              "      <td>It's a Magical World</td>\n",
              "      <td>4.76</td>\n",
              "      <td>25874</td>\n",
              "      <td>517</td>\n",
              "      <td>6</td>\n",
              "    </tr>\n",
              "    <tr>\n",
              "      <th>635</th>\n",
              "      <td>Words of Radiance</td>\n",
              "      <td>4.75</td>\n",
              "      <td>207369</td>\n",
              "      <td>12481</td>\n",
              "      <td>133</td>\n",
              "    </tr>\n",
              "    <tr>\n",
              "      <th>14496</th>\n",
              "      <td>There's Treasure Everywhere</td>\n",
              "      <td>4.75</td>\n",
              "      <td>19726</td>\n",
              "      <td>174</td>\n",
              "      <td>2</td>\n",
              "    </tr>\n",
              "    <tr>\n",
              "      <th>3582</th>\n",
              "      <td>The Indispensable Calvin and Hobbes</td>\n",
              "      <td>4.74</td>\n",
              "      <td>19492</td>\n",
              "      <td>904</td>\n",
              "      <td>14</td>\n",
              "    </tr>\n",
              "    <tr>\n",
              "      <th>1565</th>\n",
              "      <td>The Authoritative Calvin and Hobbes: A Calvin ...</td>\n",
              "      <td>4.74</td>\n",
              "      <td>20857</td>\n",
              "      <td>2946</td>\n",
              "      <td>46</td>\n",
              "    </tr>\n",
              "  </tbody>\n",
              "</table>\n",
              "</div>\n",
              "      <button class=\"colab-df-convert\" onclick=\"convertToInteractive('df-2f1838d0-d05d-498f-8976-cae8c1cc3fd7')\"\n",
              "              title=\"Convert this dataframe to an interactive table.\"\n",
              "              style=\"display:none;\">\n",
              "        \n",
              "  <svg xmlns=\"http://www.w3.org/2000/svg\" height=\"24px\"viewBox=\"0 0 24 24\"\n",
              "       width=\"24px\">\n",
              "    <path d=\"M0 0h24v24H0V0z\" fill=\"none\"/>\n",
              "    <path d=\"M18.56 5.44l.94 2.06.94-2.06 2.06-.94-2.06-.94-.94-2.06-.94 2.06-2.06.94zm-11 1L8.5 8.5l.94-2.06 2.06-.94-2.06-.94L8.5 2.5l-.94 2.06-2.06.94zm10 10l.94 2.06.94-2.06 2.06-.94-2.06-.94-.94-2.06-.94 2.06-2.06.94z\"/><path d=\"M17.41 7.96l-1.37-1.37c-.4-.4-.92-.59-1.43-.59-.52 0-1.04.2-1.43.59L10.3 9.45l-7.72 7.72c-.78.78-.78 2.05 0 2.83L4 21.41c.39.39.9.59 1.41.59.51 0 1.02-.2 1.41-.59l7.78-7.78 2.81-2.81c.8-.78.8-2.07 0-2.86zM5.41 20L4 18.59l7.72-7.72 1.47 1.35L5.41 20z\"/>\n",
              "  </svg>\n",
              "      </button>\n",
              "      \n",
              "  <style>\n",
              "    .colab-df-container {\n",
              "      display:flex;\n",
              "      flex-wrap:wrap;\n",
              "      gap: 12px;\n",
              "    }\n",
              "\n",
              "    .colab-df-convert {\n",
              "      background-color: #E8F0FE;\n",
              "      border: none;\n",
              "      border-radius: 50%;\n",
              "      cursor: pointer;\n",
              "      display: none;\n",
              "      fill: #1967D2;\n",
              "      height: 32px;\n",
              "      padding: 0 0 0 0;\n",
              "      width: 32px;\n",
              "    }\n",
              "\n",
              "    .colab-df-convert:hover {\n",
              "      background-color: #E2EBFA;\n",
              "      box-shadow: 0px 1px 2px rgba(60, 64, 67, 0.3), 0px 1px 3px 1px rgba(60, 64, 67, 0.15);\n",
              "      fill: #174EA6;\n",
              "    }\n",
              "\n",
              "    [theme=dark] .colab-df-convert {\n",
              "      background-color: #3B4455;\n",
              "      fill: #D2E3FC;\n",
              "    }\n",
              "\n",
              "    [theme=dark] .colab-df-convert:hover {\n",
              "      background-color: #434B5C;\n",
              "      box-shadow: 0px 1px 3px 1px rgba(0, 0, 0, 0.15);\n",
              "      filter: drop-shadow(0px 1px 2px rgba(0, 0, 0, 0.3));\n",
              "      fill: #FFFFFF;\n",
              "    }\n",
              "  </style>\n",
              "\n",
              "      <script>\n",
              "        const buttonEl =\n",
              "          document.querySelector('#df-2f1838d0-d05d-498f-8976-cae8c1cc3fd7 button.colab-df-convert');\n",
              "        buttonEl.style.display =\n",
              "          google.colab.kernel.accessAllowed ? 'block' : 'none';\n",
              "\n",
              "        async function convertToInteractive(key) {\n",
              "          const element = document.querySelector('#df-2f1838d0-d05d-498f-8976-cae8c1cc3fd7');\n",
              "          const dataTable =\n",
              "            await google.colab.kernel.invokeFunction('convertToInteractive',\n",
              "                                                     [key], {});\n",
              "          if (!dataTable) return;\n",
              "\n",
              "          const docLinkHtml = 'Like what you see? Visit the ' +\n",
              "            '<a target=\"_blank\" href=https://colab.research.google.com/notebooks/data_table.ipynb>data table notebook</a>'\n",
              "            + ' to learn more about interactive tables.';\n",
              "          element.innerHTML = '';\n",
              "          dataTable['output_type'] = 'display_data';\n",
              "          await google.colab.output.renderOutput(dataTable, element);\n",
              "          const docLink = document.createElement('div');\n",
              "          docLink.innerHTML = docLinkHtml;\n",
              "          element.appendChild(docLink);\n",
              "        }\n",
              "      </script>\n",
              "    </div>\n",
              "  </div>\n",
              "  "
            ]
          },
          "metadata": {},
          "execution_count": 124
        }
      ]
    },
    {
      "cell_type": "code",
      "source": [
        "# filter data to only analyze books with more than 1,000,000 ratings to see how rating threshold ifluences results\n",
        "goodreads_1M_rating = goodreads_clean[goodreads_clean['numRatings'] > 1000000]\n",
        "\n",
        "# list top 10 books with more than 1M ratings \n",
        "top_rated_books_1M = goodreads_1M_rating.sort_values('rating', ascending=False).head(10)\n",
        "top_rated_books_1Msubset = top_rated_books_1M[['title', 'rating', 'numRatings', 'bbeScore', 'bbeVotes']]\n",
        "top_rated_books_1Msubset"
      ],
      "metadata": {
        "id": "oU2aHtT3qSuo",
        "outputId": "0bd6822e-630e-40fa-981f-2631f410b36c",
        "colab": {
          "base_uri": "https://localhost:8080/",
          "height": 363
        }
      },
      "execution_count": null,
      "outputs": [
        {
          "output_type": "execute_result",
          "data": {
            "text/plain": [
              "                                         title  rating  numRatings  bbeScore  \\\n",
              "71        Harry Potter and the Deathly Hallows    4.62     2811637    351347   \n",
              "105     Harry Potter and the Half-Blood Prince    4.57     2437658    162803   \n",
              "93    Harry Potter and the Prisoner of Azkaban    4.57     2806471    247736   \n",
              "103        Harry Potter and the Goblet of Fire    4.56     2594622    178933   \n",
              "1    Harry Potter and the Order of the Phoenix    4.50     2507623   2632233   \n",
              "30                                    The Help    4.47     2164011    718236   \n",
              "32       Harry Potter and the Sorcerer's Stone    4.47     7048471    691430   \n",
              "46                           A Game of Thrones    4.45     2003043    562241   \n",
              "126    Harry Potter and the Chamber of Secrets    4.43     2725847    130666   \n",
              "44                    A Thousand Splendid Suns    4.38     1151288    580722   \n",
              "\n",
              "     bbeVotes  \n",
              "71       3835  \n",
              "105      1889  \n",
              "93       2770  \n",
              "103      2049  \n",
              "1       26923  \n",
              "30       7693  \n",
              "32       7348  \n",
              "46       6007  \n",
              "126      1567  \n",
              "44       6164  "
            ],
            "text/html": [
              "\n",
              "  <div id=\"df-df5b27b0-0714-4bdb-88c0-79e26834d100\">\n",
              "    <div class=\"colab-df-container\">\n",
              "      <div>\n",
              "<style scoped>\n",
              "    .dataframe tbody tr th:only-of-type {\n",
              "        vertical-align: middle;\n",
              "    }\n",
              "\n",
              "    .dataframe tbody tr th {\n",
              "        vertical-align: top;\n",
              "    }\n",
              "\n",
              "    .dataframe thead th {\n",
              "        text-align: right;\n",
              "    }\n",
              "</style>\n",
              "<table border=\"1\" class=\"dataframe\">\n",
              "  <thead>\n",
              "    <tr style=\"text-align: right;\">\n",
              "      <th></th>\n",
              "      <th>title</th>\n",
              "      <th>rating</th>\n",
              "      <th>numRatings</th>\n",
              "      <th>bbeScore</th>\n",
              "      <th>bbeVotes</th>\n",
              "    </tr>\n",
              "  </thead>\n",
              "  <tbody>\n",
              "    <tr>\n",
              "      <th>71</th>\n",
              "      <td>Harry Potter and the Deathly Hallows</td>\n",
              "      <td>4.62</td>\n",
              "      <td>2811637</td>\n",
              "      <td>351347</td>\n",
              "      <td>3835</td>\n",
              "    </tr>\n",
              "    <tr>\n",
              "      <th>105</th>\n",
              "      <td>Harry Potter and the Half-Blood Prince</td>\n",
              "      <td>4.57</td>\n",
              "      <td>2437658</td>\n",
              "      <td>162803</td>\n",
              "      <td>1889</td>\n",
              "    </tr>\n",
              "    <tr>\n",
              "      <th>93</th>\n",
              "      <td>Harry Potter and the Prisoner of Azkaban</td>\n",
              "      <td>4.57</td>\n",
              "      <td>2806471</td>\n",
              "      <td>247736</td>\n",
              "      <td>2770</td>\n",
              "    </tr>\n",
              "    <tr>\n",
              "      <th>103</th>\n",
              "      <td>Harry Potter and the Goblet of Fire</td>\n",
              "      <td>4.56</td>\n",
              "      <td>2594622</td>\n",
              "      <td>178933</td>\n",
              "      <td>2049</td>\n",
              "    </tr>\n",
              "    <tr>\n",
              "      <th>1</th>\n",
              "      <td>Harry Potter and the Order of the Phoenix</td>\n",
              "      <td>4.50</td>\n",
              "      <td>2507623</td>\n",
              "      <td>2632233</td>\n",
              "      <td>26923</td>\n",
              "    </tr>\n",
              "    <tr>\n",
              "      <th>30</th>\n",
              "      <td>The Help</td>\n",
              "      <td>4.47</td>\n",
              "      <td>2164011</td>\n",
              "      <td>718236</td>\n",
              "      <td>7693</td>\n",
              "    </tr>\n",
              "    <tr>\n",
              "      <th>32</th>\n",
              "      <td>Harry Potter and the Sorcerer's Stone</td>\n",
              "      <td>4.47</td>\n",
              "      <td>7048471</td>\n",
              "      <td>691430</td>\n",
              "      <td>7348</td>\n",
              "    </tr>\n",
              "    <tr>\n",
              "      <th>46</th>\n",
              "      <td>A Game of Thrones</td>\n",
              "      <td>4.45</td>\n",
              "      <td>2003043</td>\n",
              "      <td>562241</td>\n",
              "      <td>6007</td>\n",
              "    </tr>\n",
              "    <tr>\n",
              "      <th>126</th>\n",
              "      <td>Harry Potter and the Chamber of Secrets</td>\n",
              "      <td>4.43</td>\n",
              "      <td>2725847</td>\n",
              "      <td>130666</td>\n",
              "      <td>1567</td>\n",
              "    </tr>\n",
              "    <tr>\n",
              "      <th>44</th>\n",
              "      <td>A Thousand Splendid Suns</td>\n",
              "      <td>4.38</td>\n",
              "      <td>1151288</td>\n",
              "      <td>580722</td>\n",
              "      <td>6164</td>\n",
              "    </tr>\n",
              "  </tbody>\n",
              "</table>\n",
              "</div>\n",
              "      <button class=\"colab-df-convert\" onclick=\"convertToInteractive('df-df5b27b0-0714-4bdb-88c0-79e26834d100')\"\n",
              "              title=\"Convert this dataframe to an interactive table.\"\n",
              "              style=\"display:none;\">\n",
              "        \n",
              "  <svg xmlns=\"http://www.w3.org/2000/svg\" height=\"24px\"viewBox=\"0 0 24 24\"\n",
              "       width=\"24px\">\n",
              "    <path d=\"M0 0h24v24H0V0z\" fill=\"none\"/>\n",
              "    <path d=\"M18.56 5.44l.94 2.06.94-2.06 2.06-.94-2.06-.94-.94-2.06-.94 2.06-2.06.94zm-11 1L8.5 8.5l.94-2.06 2.06-.94-2.06-.94L8.5 2.5l-.94 2.06-2.06.94zm10 10l.94 2.06.94-2.06 2.06-.94-2.06-.94-.94-2.06-.94 2.06-2.06.94z\"/><path d=\"M17.41 7.96l-1.37-1.37c-.4-.4-.92-.59-1.43-.59-.52 0-1.04.2-1.43.59L10.3 9.45l-7.72 7.72c-.78.78-.78 2.05 0 2.83L4 21.41c.39.39.9.59 1.41.59.51 0 1.02-.2 1.41-.59l7.78-7.78 2.81-2.81c.8-.78.8-2.07 0-2.86zM5.41 20L4 18.59l7.72-7.72 1.47 1.35L5.41 20z\"/>\n",
              "  </svg>\n",
              "      </button>\n",
              "      \n",
              "  <style>\n",
              "    .colab-df-container {\n",
              "      display:flex;\n",
              "      flex-wrap:wrap;\n",
              "      gap: 12px;\n",
              "    }\n",
              "\n",
              "    .colab-df-convert {\n",
              "      background-color: #E8F0FE;\n",
              "      border: none;\n",
              "      border-radius: 50%;\n",
              "      cursor: pointer;\n",
              "      display: none;\n",
              "      fill: #1967D2;\n",
              "      height: 32px;\n",
              "      padding: 0 0 0 0;\n",
              "      width: 32px;\n",
              "    }\n",
              "\n",
              "    .colab-df-convert:hover {\n",
              "      background-color: #E2EBFA;\n",
              "      box-shadow: 0px 1px 2px rgba(60, 64, 67, 0.3), 0px 1px 3px 1px rgba(60, 64, 67, 0.15);\n",
              "      fill: #174EA6;\n",
              "    }\n",
              "\n",
              "    [theme=dark] .colab-df-convert {\n",
              "      background-color: #3B4455;\n",
              "      fill: #D2E3FC;\n",
              "    }\n",
              "\n",
              "    [theme=dark] .colab-df-convert:hover {\n",
              "      background-color: #434B5C;\n",
              "      box-shadow: 0px 1px 3px 1px rgba(0, 0, 0, 0.15);\n",
              "      filter: drop-shadow(0px 1px 2px rgba(0, 0, 0, 0.3));\n",
              "      fill: #FFFFFF;\n",
              "    }\n",
              "  </style>\n",
              "\n",
              "      <script>\n",
              "        const buttonEl =\n",
              "          document.querySelector('#df-df5b27b0-0714-4bdb-88c0-79e26834d100 button.colab-df-convert');\n",
              "        buttonEl.style.display =\n",
              "          google.colab.kernel.accessAllowed ? 'block' : 'none';\n",
              "\n",
              "        async function convertToInteractive(key) {\n",
              "          const element = document.querySelector('#df-df5b27b0-0714-4bdb-88c0-79e26834d100');\n",
              "          const dataTable =\n",
              "            await google.colab.kernel.invokeFunction('convertToInteractive',\n",
              "                                                     [key], {});\n",
              "          if (!dataTable) return;\n",
              "\n",
              "          const docLinkHtml = 'Like what you see? Visit the ' +\n",
              "            '<a target=\"_blank\" href=https://colab.research.google.com/notebooks/data_table.ipynb>data table notebook</a>'\n",
              "            + ' to learn more about interactive tables.';\n",
              "          element.innerHTML = '';\n",
              "          dataTable['output_type'] = 'display_data';\n",
              "          await google.colab.output.renderOutput(dataTable, element);\n",
              "          const docLink = document.createElement('div');\n",
              "          docLink.innerHTML = docLinkHtml;\n",
              "          element.appendChild(docLink);\n",
              "        }\n",
              "      </script>\n",
              "    </div>\n",
              "  </div>\n",
              "  "
            ]
          },
          "metadata": {},
          "execution_count": 125
        }
      ]
    },
    {
      "cell_type": "code",
      "source": [
        "# list of top 10 books by Best Books Ever Score (bbeScore)\n",
        "top_rated_books_bbe = goodreads_clean.sort_values('bbeScore', ascending=False).head(10)\n",
        "top_rated_books_subset_bbe = top_rated_books_bbe[['title', 'rating', 'numRatings', 'bbeScore', 'bbeVotes']]\n",
        "top_rated_books_subset_bbe"
      ],
      "metadata": {
        "id": "Q5wNcFkzBGbZ",
        "outputId": "c1fb72e3-0454-460d-8588-e3e55f30901f",
        "colab": {
          "base_uri": "https://localhost:8080/",
          "height": 363
        }
      },
      "execution_count": null,
      "outputs": [
        {
          "output_type": "execute_result",
          "data": {
            "text/plain": [
              "                                               title  rating  numRatings  \\\n",
              "0                                   The Hunger Games    4.33     6376780   \n",
              "1          Harry Potter and the Order of the Phoenix    4.50     2507623   \n",
              "2                              To Kill a Mockingbird    4.28     4501075   \n",
              "3                                Pride and Prejudice    4.26     2998241   \n",
              "4                                           Twilight    3.60     4964519   \n",
              "5                                     The Book Thief    4.37     1834276   \n",
              "6                                        Animal Farm    3.95     2740713   \n",
              "7                           The Chronicles of Narnia    4.26      517740   \n",
              "8  J.R.R. Tolkien 4-Book Boxed Set: The Hobbit an...    4.60      110146   \n",
              "9                                 Gone with the Wind    4.30     1074620   \n",
              "\n",
              "   bbeScore  bbeVotes  \n",
              "0   2993816     30516  \n",
              "1   2632233     26923  \n",
              "2   2269402     23328  \n",
              "3   1983116     20452  \n",
              "4   1459448     14874  \n",
              "5   1372809     14168  \n",
              "6   1276599     13264  \n",
              "7   1238556     12949  \n",
              "8   1159802     12111  \n",
              "9   1087732     11211  "
            ],
            "text/html": [
              "\n",
              "  <div id=\"df-3428c3a6-d52f-4bea-ba0e-ed1f21963980\">\n",
              "    <div class=\"colab-df-container\">\n",
              "      <div>\n",
              "<style scoped>\n",
              "    .dataframe tbody tr th:only-of-type {\n",
              "        vertical-align: middle;\n",
              "    }\n",
              "\n",
              "    .dataframe tbody tr th {\n",
              "        vertical-align: top;\n",
              "    }\n",
              "\n",
              "    .dataframe thead th {\n",
              "        text-align: right;\n",
              "    }\n",
              "</style>\n",
              "<table border=\"1\" class=\"dataframe\">\n",
              "  <thead>\n",
              "    <tr style=\"text-align: right;\">\n",
              "      <th></th>\n",
              "      <th>title</th>\n",
              "      <th>rating</th>\n",
              "      <th>numRatings</th>\n",
              "      <th>bbeScore</th>\n",
              "      <th>bbeVotes</th>\n",
              "    </tr>\n",
              "  </thead>\n",
              "  <tbody>\n",
              "    <tr>\n",
              "      <th>0</th>\n",
              "      <td>The Hunger Games</td>\n",
              "      <td>4.33</td>\n",
              "      <td>6376780</td>\n",
              "      <td>2993816</td>\n",
              "      <td>30516</td>\n",
              "    </tr>\n",
              "    <tr>\n",
              "      <th>1</th>\n",
              "      <td>Harry Potter and the Order of the Phoenix</td>\n",
              "      <td>4.50</td>\n",
              "      <td>2507623</td>\n",
              "      <td>2632233</td>\n",
              "      <td>26923</td>\n",
              "    </tr>\n",
              "    <tr>\n",
              "      <th>2</th>\n",
              "      <td>To Kill a Mockingbird</td>\n",
              "      <td>4.28</td>\n",
              "      <td>4501075</td>\n",
              "      <td>2269402</td>\n",
              "      <td>23328</td>\n",
              "    </tr>\n",
              "    <tr>\n",
              "      <th>3</th>\n",
              "      <td>Pride and Prejudice</td>\n",
              "      <td>4.26</td>\n",
              "      <td>2998241</td>\n",
              "      <td>1983116</td>\n",
              "      <td>20452</td>\n",
              "    </tr>\n",
              "    <tr>\n",
              "      <th>4</th>\n",
              "      <td>Twilight</td>\n",
              "      <td>3.60</td>\n",
              "      <td>4964519</td>\n",
              "      <td>1459448</td>\n",
              "      <td>14874</td>\n",
              "    </tr>\n",
              "    <tr>\n",
              "      <th>5</th>\n",
              "      <td>The Book Thief</td>\n",
              "      <td>4.37</td>\n",
              "      <td>1834276</td>\n",
              "      <td>1372809</td>\n",
              "      <td>14168</td>\n",
              "    </tr>\n",
              "    <tr>\n",
              "      <th>6</th>\n",
              "      <td>Animal Farm</td>\n",
              "      <td>3.95</td>\n",
              "      <td>2740713</td>\n",
              "      <td>1276599</td>\n",
              "      <td>13264</td>\n",
              "    </tr>\n",
              "    <tr>\n",
              "      <th>7</th>\n",
              "      <td>The Chronicles of Narnia</td>\n",
              "      <td>4.26</td>\n",
              "      <td>517740</td>\n",
              "      <td>1238556</td>\n",
              "      <td>12949</td>\n",
              "    </tr>\n",
              "    <tr>\n",
              "      <th>8</th>\n",
              "      <td>J.R.R. Tolkien 4-Book Boxed Set: The Hobbit an...</td>\n",
              "      <td>4.60</td>\n",
              "      <td>110146</td>\n",
              "      <td>1159802</td>\n",
              "      <td>12111</td>\n",
              "    </tr>\n",
              "    <tr>\n",
              "      <th>9</th>\n",
              "      <td>Gone with the Wind</td>\n",
              "      <td>4.30</td>\n",
              "      <td>1074620</td>\n",
              "      <td>1087732</td>\n",
              "      <td>11211</td>\n",
              "    </tr>\n",
              "  </tbody>\n",
              "</table>\n",
              "</div>\n",
              "      <button class=\"colab-df-convert\" onclick=\"convertToInteractive('df-3428c3a6-d52f-4bea-ba0e-ed1f21963980')\"\n",
              "              title=\"Convert this dataframe to an interactive table.\"\n",
              "              style=\"display:none;\">\n",
              "        \n",
              "  <svg xmlns=\"http://www.w3.org/2000/svg\" height=\"24px\"viewBox=\"0 0 24 24\"\n",
              "       width=\"24px\">\n",
              "    <path d=\"M0 0h24v24H0V0z\" fill=\"none\"/>\n",
              "    <path d=\"M18.56 5.44l.94 2.06.94-2.06 2.06-.94-2.06-.94-.94-2.06-.94 2.06-2.06.94zm-11 1L8.5 8.5l.94-2.06 2.06-.94-2.06-.94L8.5 2.5l-.94 2.06-2.06.94zm10 10l.94 2.06.94-2.06 2.06-.94-2.06-.94-.94-2.06-.94 2.06-2.06.94z\"/><path d=\"M17.41 7.96l-1.37-1.37c-.4-.4-.92-.59-1.43-.59-.52 0-1.04.2-1.43.59L10.3 9.45l-7.72 7.72c-.78.78-.78 2.05 0 2.83L4 21.41c.39.39.9.59 1.41.59.51 0 1.02-.2 1.41-.59l7.78-7.78 2.81-2.81c.8-.78.8-2.07 0-2.86zM5.41 20L4 18.59l7.72-7.72 1.47 1.35L5.41 20z\"/>\n",
              "  </svg>\n",
              "      </button>\n",
              "      \n",
              "  <style>\n",
              "    .colab-df-container {\n",
              "      display:flex;\n",
              "      flex-wrap:wrap;\n",
              "      gap: 12px;\n",
              "    }\n",
              "\n",
              "    .colab-df-convert {\n",
              "      background-color: #E8F0FE;\n",
              "      border: none;\n",
              "      border-radius: 50%;\n",
              "      cursor: pointer;\n",
              "      display: none;\n",
              "      fill: #1967D2;\n",
              "      height: 32px;\n",
              "      padding: 0 0 0 0;\n",
              "      width: 32px;\n",
              "    }\n",
              "\n",
              "    .colab-df-convert:hover {\n",
              "      background-color: #E2EBFA;\n",
              "      box-shadow: 0px 1px 2px rgba(60, 64, 67, 0.3), 0px 1px 3px 1px rgba(60, 64, 67, 0.15);\n",
              "      fill: #174EA6;\n",
              "    }\n",
              "\n",
              "    [theme=dark] .colab-df-convert {\n",
              "      background-color: #3B4455;\n",
              "      fill: #D2E3FC;\n",
              "    }\n",
              "\n",
              "    [theme=dark] .colab-df-convert:hover {\n",
              "      background-color: #434B5C;\n",
              "      box-shadow: 0px 1px 3px 1px rgba(0, 0, 0, 0.15);\n",
              "      filter: drop-shadow(0px 1px 2px rgba(0, 0, 0, 0.3));\n",
              "      fill: #FFFFFF;\n",
              "    }\n",
              "  </style>\n",
              "\n",
              "      <script>\n",
              "        const buttonEl =\n",
              "          document.querySelector('#df-3428c3a6-d52f-4bea-ba0e-ed1f21963980 button.colab-df-convert');\n",
              "        buttonEl.style.display =\n",
              "          google.colab.kernel.accessAllowed ? 'block' : 'none';\n",
              "\n",
              "        async function convertToInteractive(key) {\n",
              "          const element = document.querySelector('#df-3428c3a6-d52f-4bea-ba0e-ed1f21963980');\n",
              "          const dataTable =\n",
              "            await google.colab.kernel.invokeFunction('convertToInteractive',\n",
              "                                                     [key], {});\n",
              "          if (!dataTable) return;\n",
              "\n",
              "          const docLinkHtml = 'Like what you see? Visit the ' +\n",
              "            '<a target=\"_blank\" href=https://colab.research.google.com/notebooks/data_table.ipynb>data table notebook</a>'\n",
              "            + ' to learn more about interactive tables.';\n",
              "          element.innerHTML = '';\n",
              "          dataTable['output_type'] = 'display_data';\n",
              "          await google.colab.output.renderOutput(dataTable, element);\n",
              "          const docLink = document.createElement('div');\n",
              "          docLink.innerHTML = docLinkHtml;\n",
              "          element.appendChild(docLink);\n",
              "        }\n",
              "      </script>\n",
              "    </div>\n",
              "  </div>\n",
              "  "
            ]
          },
          "metadata": {},
          "execution_count": 126
        }
      ]
    },
    {
      "cell_type": "markdown",
      "source": [
        "> *Finding: Comparing the lists, BBE Score (GoodReads Best Book Ever Score) is more reflective of titles that are known to be popular. A book's BBE score is based on multiple factors, including the number of people who have voted for it and how highly those voters ranked the book. Rating, by comparison, is the average rating of those that rated it (only including books with at least 10k ratings in this analysis). This analysis demonstrates the BBE score is helpful, but the unclear methodology that GoodReads applies to the score may inflate score for popular titles unfairly.*\n"
      ],
      "metadata": {
        "id": "xMkokVYRCkEn"
      }
    },
    {
      "cell_type": "markdown",
      "source": [
        "# Correlation Analysis of Ratings & BBE Score with Award Count (Charts)\n",
        "For this analysis, we used the dataset for books with 10k or more ratings in both cases for a fair comparison between ratings."
      ],
      "metadata": {
        "id": "ixZnPwhavo_h"
      }
    },
    {
      "cell_type": "code",
      "source": [
        "# Comparison of BBE Score and Award Count in a scatter plot with linear regression\n",
        "sns.regplot(x=\"awards_count\", y=\"bbeScore\", data=goodreads_10k_rating, scatter_kws={'s':60})\n",
        "\n",
        "# Add labels to the axes\n",
        "plt.xlabel(\"Awards Count\")\n",
        "plt.ylabel(\"BBE Score\")\n",
        "\n",
        "# Show the plot\n",
        "plt.show()\n"
      ],
      "metadata": {
        "id": "FNCswnAIvmsN",
        "outputId": "d9882a26-55bd-478e-fd1f-231e745c67cb",
        "colab": {
          "base_uri": "https://localhost:8080/",
          "height": 290
        }
      },
      "execution_count": null,
      "outputs": [
        {
          "output_type": "display_data",
          "data": {
            "text/plain": [
              "<Figure size 432x288 with 1 Axes>"
            ],
            "image/png": "[encoded data removed]"
          },
          "metadata": {}
        }
      ]
    },
    {
      "cell_type": "code",
      "source": [
        "# Comparison of Rating and Award Count in a scatter plot with linear regression\n",
        "sns.regplot(x=\"awards_count\", y=\"rating\", data=goodreads_10k_rating, scatter_kws={'s':60})\n",
        "\n",
        "# Add labels to the axes\n",
        "plt.xlabel(\"Awards Count\")\n",
        "plt.ylabel(\"Rating\")\n",
        "\n",
        "# Show the plot\n",
        "plt.show()"
      ],
      "metadata": {
        "id": "AJBRRiJvvz46",
        "outputId": "5129825d-4a4e-4c09-88fa-8c3fd656c653",
        "colab": {
          "base_uri": "https://localhost:8080/",
          "height": 279
        }
      },
      "execution_count": null,
      "outputs": [
        {
          "output_type": "display_data",
          "data": {
            "text/plain": [
              "<Figure size 432x288 with 1 Axes>"
            ],
            "image/png": "[encoded data removed]"
          },
          "metadata": {}
        }
      ]
    },
    {
      "cell_type": "code",
      "source": [
        "# Calculate the correlation coefficients for both values\n",
        "awards_bbe_corr = goodreads_clean['awards_count'].corr(goodreads_clean['bbeScore'])\n",
        "awards_rating_corr = goodreads_10k_rating['awards_count'].corr(goodreads_10k_rating['rating'])\n",
        "\n",
        "# Print the correlation coefficients\n",
        "print(\"Correlation coefficient between awards count and BBE Score:\", awards_bbe_corr)\n",
        "print(\"Correlation coefficient between awards count and Rating:\", awards_rating_corr)\n"
      ],
      "metadata": {
        "id": "6Halgi93yr6U",
        "outputId": "4d1b473d-eab6-4ebf-85f0-f08ff7fd4a47",
        "colab": {
          "base_uri": "https://localhost:8080/"
        }
      },
      "execution_count": null,
      "outputs": [
        {
          "output_type": "stream",
          "name": "stdout",
          "text": [
            "Correlation coefficient between awards count and BBE Score: 0.1956534451708208\n",
            "Correlation coefficient between awards count and Rating: 0.008038540954830116\n"
          ]
        }
      ]
    },
    {
      "cell_type": "markdown",
      "source": [
        "\n",
        "\n",
        "> *Finding: There is no correlation between Rating and Award Count. There is a weak correlations bewteen BBE Score and Award Count. This suggests that BBE Score's methodology is more helpful in determining higher quality books if number of awards is an accepted factor for higher quality. From this analysis, we feel more confidence in using BBE Score over Rating to identify top books.*\n",
        "\n"
      ],
      "metadata": {
        "id": "cuF_2jhozLpb"
      }
    },
    {
      "cell_type": "markdown",
      "source": [
        "# Validilty of Rating Systems by Liked Percentage and Ratings (Chart)\n",
        "\n",
        "For this analysis, we compared the liked percentage with the ratings to determine the validity of the ratings data. The liked percentage is determined by the percent of ratings with over 2 stars and the ratings are out of five starts. \n",
        "\n",
        "If the liked percentage is accurate, then there should be a consistent scatter cluster upwards to show to correlation between the liked percentage and the rating that would match that percentage (ex. 3 out of 5 starts should show a large cluster near 60%)."
      ],
      "metadata": {
        "id": "NnSTFd-vvrKE"
      }
    },
    {
      "cell_type": "code",
      "source": [
        "# comparing liked percentage with the rating using a scatter plot\n",
        "sns.scatterplot(x=\"rating\", y=\"likedPercent\", data=goodreads_clean);\n",
        "plt.axvline(x=3, color='m', linestyle='--')\n",
        "plt.title('Goodreads Bestsellers')\n",
        "plt.xlabel('Rating')\n",
        "plt.ylabel('Liked Percent')\n",
        "plt.show()"
      ],
      "metadata": {
        "colab": {
          "base_uri": "https://localhost:8080/",
          "height": 295
        },
        "id": "bUajOGRoiQmJ",
        "outputId": "752317e2-de42-45b3-d286-1e0216c3a8fd"
      },
      "execution_count": null,
      "outputs": [
        {
          "output_type": "display_data",
          "data": {
            "text/plain": [
              "<Figure size 432x288 with 1 Axes>"
            ],
            "image/png": "[encoded data removed]"
          },
          "metadata": {}
        }
      ]
    },
    {
      "cell_type": "markdown",
      "source": [
        "*Finding: Based on our assumption above, the \"liked\" percentages are fairly accurate to the book's rating; however, they are not interchangeable. The scatter points are mostly clusters near ratings corresponding to \"liked\" percentages, and vice versa. However, there is some disparity observed in the 100% range, as there are some scatter points at a 3.5 rating but with a 100% \"liked\" percentage.*"
      ],
      "metadata": {
        "id": "yccjIH8DSzA3"
      }
    },
    {
      "cell_type": "markdown",
      "source": [
        "# Bias Checking for Rated Books Written in English & in Other Langauges (Charts)\n",
        "For this analysis, we wanted to check to and see how many rated books are in English and how many are in another langauge. We also wanted to see if that pattern was true in the top 50 books or if the top 50 books had more, less, or the same number of books in English v. another language.  "
      ],
      "metadata": {
        "id": "IVszPqegvucz"
      }
    },
    {
      "cell_type": "code",
      "source": [
        "# shows the number of books in english and the number of books in other langauges\n",
        "\n",
        "# Create a new column that indicates if the book is in English or in another language\n",
        "goodreads_clean[\"English\"] = goodreads_clean[\"language\"].str.contains(\"English\").astype(int)\n",
        "\n",
        "# Group the data based on the \"English\" column and count the number of books in each group\n",
        "book_count = goodreads_clean.groupby(\"English\").size().reset_index(name=\"count\")\n",
        "total_count = book_count[\"count\"].sum()\n",
        "book_count[\"percent\"] = 100 * book_count[\"count\"] / total_count\n",
        "\n",
        "# Create barplot\n",
        "ax = sns.barplot(x=\"English\", y=\"count\", data=book_count)\n",
        "ax.set_xticklabels([\"Other Languages\", \"English\"])\n",
        "\n",
        "# Give plot title and label axes\n",
        "plt.title(\"Number of Books in English vs. Other Languages\")\n",
        "plt.xlabel(\"Language\")\n",
        "plt.ylabel(\"Number of Books\")\n",
        "\n",
        "#add the percentages of how many books are in English and how mang are in another language\n",
        "for index, row in book_count.iterrows():\n",
        "    ax.text(row[\"English\"], row[\"count\"], f\"{row['percent']:.2f}%\", ha=\"center\")\n",
        "plt.show()"
      ],
      "metadata": {
        "colab": {
          "base_uri": "https://localhost:8080/",
          "height": 295
        },
        "id": "p67Tq1dDDti1",
        "outputId": "1ce20663-d759-4f6e-d3f8-38378a76739f"
      },
      "execution_count": null,
      "outputs": [
        {
          "output_type": "display_data",
          "data": {
            "text/plain": [
              "<Figure size 432x288 with 1 Axes>"
            ],
            "image/png": "[encoded data removed]"
          },
          "metadata": {}
        }
      ]
    },
    {
      "cell_type": "markdown",
      "source": [
        "*It was clear from this bar chart that a majority of the rated books on GoodReads were books in English. However, we wanted to see if perhaps there was a diversity when it came to top rated books, which is what we checked in the next barplot.*"
      ],
      "metadata": {
        "id": "QStFj2X6NOGC"
      }
    },
    {
      "cell_type": "code",
      "source": [
        "# top 50 books by rating and grouped into English and none english\n",
        "top_books = goodreads_clean.sort_values(\"rating\", ascending=False).head(50)\n",
        "top_books[\"English\"] = top_books[\"language\"].str.contains(\"English\").astype(int)\n",
        "\n",
        "# Group the data based on the \"English\" column and count the number of books in each group\n",
        "book_count = top_books.groupby(\"English\").size().reset_index(name=\"count\")\n",
        "\n",
        "# Create barplot\n",
        "sns.set_style(\"whitegrid\")\n",
        "total_count = book_count[\"count\"].sum()\n",
        "book_count[\"percent\"] = 100 * book_count[\"count\"] / total_count\n",
        "ax = sns.barplot(x=\"English\", y=\"count\", data=book_count)\n",
        "ax.set_xticklabels([\"Other Languages\", \"English\"])\n",
        "\n",
        "# Give plot title and label axes\n",
        "plt.title(\"Number of Top 50 Books in English vs. Other Languages\")\n",
        "plt.xlabel(\"Language\")\n",
        "plt.ylabel(\"Number of Books\")\n",
        "\n",
        "#add the percentages of how many books are in English and how mang are in another language\n",
        "for index, row in book_count.iterrows():\n",
        "    ax.text(row[\"English\"], row[\"count\"], f\"{row['percent']:.2f}%\", ha=\"center\")\n",
        "plt.show()"
      ],
      "metadata": {
        "colab": {
          "base_uri": "https://localhost:8080/",
          "height": 295
        },
        "id": "M_kwOlBlF8_M",
        "outputId": "cad68e9b-8924-43a8-eb93-6775e4117336"
      },
      "execution_count": null,
      "outputs": [
        {
          "output_type": "display_data",
          "data": {
            "text/plain": [
              "<Figure size 432x288 with 1 Axes>"
            ],
            "image/png": "[encoded data removed]"
          },
          "metadata": {}
        }
      ]
    },
    {
      "cell_type": "markdown",
      "source": [
        "*Finding: With the analysis of the barplots, we found that, in fact, there was an even larger discrepancy between rated books that were in English and books in other languages. This tells us is that GoodReads is mainly rating books that are written in or translated into English and therefore, when taking recommendations from the platform, the reader should be aware that this is not a comprehensive list of best books, rather a list of top rated books written in English.*"
      ],
      "metadata": {
        "id": "h_x0UfNhP-5C"
      }
    },
    {
      "cell_type": "markdown",
      "source": [
        "# Short Summary\n",
        "\n",
        "Through our analysis, we have found that GoodReads is a useful recommendation platform for those who are looking for books based on consumer opinions rather than industry opnions (i.e. notable awards). This is also a good platform for those who are looking for best books in English rather than best books globally."
      ],
      "metadata": {
        "id": "qkLC5a9vv6gZ"
      }
    }
  ]
}